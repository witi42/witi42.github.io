{
 "cells": [
  {
   "cell_type": "code",
   "execution_count": 2,
   "metadata": {},
   "outputs": [
    {
     "name": "stdout",
     "output_type": "stream",
     "text": [
      "Chatbot response: Hey there! I'm John Doe, your friendly neighborhood software engineer. Ready to tackle any tech challenges you throw at me! What's up?\n"
     ]
    }
   ],
   "source": [
    "import requests\n",
    "\n",
    "# The URL of your deployed Google Cloud Function\n",
    "url = \"https://europe-west6-experiments-425922.cloudfunctions.net/chatbot\"\n",
    "\n",
    "# Define the message you want to test with\n",
    "user_message = \"Hello, who are you?\"\n",
    "\n",
    "# Create an empty chat history to simulate a fresh conversation\n",
    "chat_history = \"\"\n",
    "\n",
    "# Construct the payload\n",
    "payload = {\n",
    "    \"userMessage\": user_message,\n",
    "    \"chatHistory\": chat_history\n",
    "}\n",
    "\n",
    "# Send the POST request\n",
    "response = requests.post(url, json=payload)\n",
    "\n",
    "# Print the response from the chatbot\n",
    "if response.status_code == 200:\n",
    "    print(\"Chatbot response:\", response.json()[\"message\"])\n",
    "else:\n",
    "    print(\"Error:\", response.status_code, response.text)\n"
   ]
  },
  {
   "cell_type": "code",
   "execution_count": null,
   "metadata": {},
   "outputs": [],
   "source": []
  }
 ],
 "metadata": {
  "kernelspec": {
   "display_name": "Python 3",
   "language": "python",
   "name": "python3"
  },
  "language_info": {
   "codemirror_mode": {
    "name": "ipython",
    "version": 3
   },
   "file_extension": ".py",
   "mimetype": "text/x-python",
   "name": "python",
   "nbconvert_exporter": "python",
   "pygments_lexer": "ipython3",
   "version": "3.11.5"
  }
 },
 "nbformat": 4,
 "nbformat_minor": 2
}
